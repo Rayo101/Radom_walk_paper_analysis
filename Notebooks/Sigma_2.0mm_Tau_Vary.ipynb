{
 "cells": [
  {
   "cell_type": "code",
   "execution_count": 1,
   "metadata": {},
   "outputs": [],
   "source": [
    "import numpy as np\n",
    "import matplotlib.pyplot as plt\n",
    "import matplotlib\n",
    "from pept import LineData, Pipeline, PointData\n",
    "from pept.tracking import Stack, HDBSCAN, Cutpoints, SplitLabels, Centroids, Condition\n",
    "from scipy.interpolate import interp1d\n",
    "from skopt import gp_minimize\n",
    "from skopt.space import Real, Integer\n",
    "import sys\n",
    "sys.path.append(\"/home/rayhaan/randomWalk_V3/Scripts/\")\n",
    "from interpolateTime import interpolateUnique\n",
    "from tqdm import tqdm\n",
    "matplotlib.use(\"pgf\")\n",
    "matplotlib.rcParams.update({\n",
    "    \"pgf.texsystem\": \"pdflatex\",\n",
    "    'font.family': 'serif',\n",
    "    'text.usetex': True,\n",
    "    'pgf.rcfonts': False,\n",
    "})\n",
    "%matplotlib widget"
   ]
  },
  {
   "cell_type": "code",
   "execution_count": 2,
   "metadata": {},
   "outputs": [],
   "source": [
    "def errorCalculation(truePath: PointData, trackedPath: PointData) -> np.float64:\n",
    "    fx = interp1d(truePath['t'], truePath['x'], fill_value = \"extrapolate\")\n",
    "    fy = interp1d(truePath['t'], truePath['y'], fill_value = \"extrapolate\")\n",
    "    fz = interp1d(truePath['t'], truePath['z'], fill_value = \"extrapolate\")\n",
    "\n",
    "    xInterp = fx(trackedPath['t'])\n",
    "    yInterp = fy(trackedPath['t'])\n",
    "    zInterp = fz(trackedPath['t'])\n",
    "\n",
    "    errorX = np.sum(np.abs(xInterp - trackedPath['x']))/len(xInterp)\n",
    "    errorY = np.sum(np.abs(yInterp - trackedPath['y']))/len(xInterp)\n",
    "    errorZ = np.sum(np.abs(zInterp - trackedPath['z']))/len(xInterp)\n",
    "\n",
    "    combinedError = np.sqrt(errorX**2 + errorY**2 + errorZ**2)\n",
    "\n",
    "    return combinedError"
   ]
  },
  {
   "cell_type": "code",
   "execution_count": 3,
   "metadata": {},
   "outputs": [],
   "source": [
    "def loadTruePath(path: str) -> PointData:\n",
    "    data = np.loadtxt(path, skiprows = 3)\n",
    "    points = np.array([data[:, 0], data[:, 5], data[:, 6], data[:, 7]]).T\n",
    "    pData = PointData(points)\n",
    "    return pData\n",
    "\n",
    "def loadData(path: str) -> LineData:\n",
    "    lines = np.load(path)\n",
    "    rawLines = np.array([lines[:, 6], lines[:, 0], lines[:, 1], lines[:, 2], lines[:, 3], lines[:, 4], lines[:, 5]]).T\n",
    "    lData = LineData(rawLines)\n",
    "    return lData"
   ]
  },
  {
   "cell_type": "code",
   "execution_count": 4,
   "metadata": {},
   "outputs": [],
   "source": [
    "trueData = loadTruePath(path = \"/home/rayhaan/randomWalk_V3/GATE_Generation/Sigma_2.0mm_Tau_0.08ms_1.2ms_placements/RW3_TS_0.08ms_SS_2.00mm.placements\")\n",
    "lors = loadData(path = \"/home/rayhaan/randomWalk_V3/GATE_Generation/Sigma_2.0mm_Tau_0.08ms_1.2ms_NPY/RW3_TS_0.08ms_SS_2.00mm.npy\")"
   ]
  },
  {
   "cell_type": "code",
   "execution_count": 5,
   "metadata": {},
   "outputs": [],
   "source": [
    "times = lors['t']\n",
    "newTime = interpolateUnique(msTime = times)\n",
    "lors_2 = LineData(np.c_[newTime, lors.lines[:, 1:7]])"
   ]
  },
  {
   "cell_type": "code",
   "execution_count": 16,
   "metadata": {},
   "outputs": [],
   "source": [
    "MLPipe = Pipeline([\n",
    "            Stack(sample_size = 40, overlap = 0),\n",
    "            Cutpoints(max_distance = 3.0),\n",
    "            HDBSCAN(true_fraction = 0.1),\n",
    "            SplitLabels() + Centroids(),\n",
    "\n",
    "            Stack(sample_size = 5, overlap = 4), \n",
    "            HDBSCAN(true_fraction = 0.6),\n",
    "            SplitLabels() + Centroids(),\n",
    "            Stack()\n",
    "        ])"
   ]
  },
  {
   "cell_type": "code",
   "execution_count": 17,
   "metadata": {},
   "outputs": [
    {
     "name": "stderr",
     "output_type": "stream",
     "text": [
      "Batch 1 / 2 :: 100%|███████████████████████████████████████████████████████████████████████████████████████████████████████████████████| 3704/3704 [00:03<00:00, 1068.74it/s]\n",
      "Batch 2 / 2 :: 100%|███████████████████████████████████████████████████████████████████████████████████████████████████████████████████| 6243/6243 [00:06<00:00, 1000.92it/s]\n"
     ]
    },
    {
     "name": "stdout",
     "output_type": "stream",
     "text": [
      "\n",
      "Processed samples in 10.559792518615723 s\n",
      "\n",
      "The location rate is 11928.0 Hz\n"
     ]
    }
   ],
   "source": [
    "locTest = MLPipe.fit(lors_2)\n",
    "print(\"The location rate is {} Hz\".format(len(locTest.points)/0.5))"
   ]
  },
  {
   "cell_type": "code",
   "execution_count": 53,
   "metadata": {},
   "outputs": [],
   "source": [
    "# filter2 = Condition(\"t >= 0.0, t <= 0.5\") + Stack()\n",
    "# locTest2 = filter2.fit(locTest)a"
   ]
  },
  {
   "cell_type": "code",
   "execution_count": 54,
   "metadata": {},
   "outputs": [],
   "source": [
    "# np.save(\"/home/rayhaan/randomWalk_V3/Plots/truePath\", arr = trueData.points)"
   ]
  },
  {
   "cell_type": "code",
   "execution_count": 55,
   "metadata": {},
   "outputs": [],
   "source": [
    "# plt.close(\"all\")\n",
    "# fig, (ax1, ax2, ax3) = plt.subplots(3, 1, figsize = (7, 5), sharex = \"col\")\n",
    "\n",
    "# fig.suptitle(\"TS_0.4ms_Lambda_2.0mm_L_245.954kHz\")\n",
    "# ax1.scatter(locTest2['t'], locTest2['x'], s = 0.1, color = 'k', zorder = 1, label = \"ML_Track\")\n",
    "# ax1.plot(trueData['t'], trueData['x'], lw = 1, color = 'r', zorder = 0, label = \"True_Path\")\n",
    "\n",
    "# ax2.scatter(locTest2['t'], locTest2['y'], s = 0.1, color = 'k', zorder = 1, label = \"ML_Track\")\n",
    "# ax2.plot(trueData['t'], trueData['y'], lw = 1, color = 'r', zorder = 0, label = \"True_Path\")\n",
    "\n",
    "# ax3.scatter(locTest2['t'], locTest2['z'], s = 0.1, color = 'k', zorder = 1, label = \"ML_Track\")\n",
    "# ax3.plot(trueData['t'], trueData['z'], lw = 1, color = 'r', zorder = 0, label = \"True_Path\")\n",
    "\n",
    "# ax1.legend()\n",
    "# ax2.legend()\n",
    "# ax3.legend()\n",
    "\n",
    "# ax3.set_xlabel(\"t (s)\")\n",
    "\n",
    "# ax1.set_ylabel(\"X (mm)\")\n",
    "# ax2.set_ylabel(\"Y (mm)\")\n",
    "# ax3.set_ylabel(\"Z (mm)\")\n",
    "\n",
    "# fig.tight_layout()\n",
    "# fig.savefig(\"/home/rayhaan/randomWalk_V3/Plots/Test_Extreme_OL1.png\", dpi = 300)\n",
    "\n",
    "\n"
   ]
  },
  {
   "cell_type": "code",
   "execution_count": 22,
   "metadata": {},
   "outputs": [],
   "source": [
    "def optAllML(lowerLocRate, upperLocRate, Data, truePath):\n",
    "\n",
    "    # out = []\n",
    "\n",
    "# for i in tqdm(range(len(UsedSampleSizes)-1)):\n",
    "    def ObjectiveML(x):\n",
    "        MLPipe = Pipeline([\n",
    "            Stack(sample_size = x[0], overlap = 0),\n",
    "            Cutpoints(max_distance = 3.0),\n",
    "            HDBSCAN(true_fraction = x[1]),\n",
    "            SplitLabels() + Centroids(),\n",
    "\n",
    "            Stack(sample_size = 5, overlap = 4), \n",
    "            HDBSCAN(true_fraction = x[2]),\n",
    "            SplitLabels() + Centroids(),\n",
    "            Stack()\n",
    "        ])\n",
    "\n",
    "        locs = MLPipe.fit(Data, verbose = True)\n",
    "\n",
    "        locRate = len(locs.points)/0.5\n",
    "\n",
    "        error = errorCalculation(truePath = truePath, trackedPath = locs)\n",
    "\n",
    "        if (locRate >= lowerLocRate) and (locRate <= upperLocRate):\n",
    "            error = error\n",
    "        else:\n",
    "            error = 10000 + error\n",
    "\n",
    "        print(\"The error is: {} mm, the location rate is: {} kHz\".format(error, locRate))\n",
    "\n",
    "        return error\n",
    "\n",
    "    space = [   Integer(25, 35, name = 'SS1'),\n",
    "                # Real(1.0, 3.0, name = 'MD'),\n",
    "                Real(0.1, 0.6, name = 'TF1'),\n",
    "                Real(0.55, 0.65, name = 'TF2'),\n",
    "                    ]\n",
    "\n",
    "    res = gp_minimize(ObjectiveML, space, n_calls = 20, verbose = True, random_state = 657333)\n",
    "\n",
    "    out1 = [res.fun, res.x[0], res.x[1], res.x[2]]\n",
    "\n",
    "    return out1"
   ]
  },
  {
   "cell_type": "code",
   "execution_count": 23,
   "metadata": {},
   "outputs": [
    {
     "data": {
      "text/plain": [
       "12499.999999999998"
      ]
     },
     "execution_count": 23,
     "metadata": {},
     "output_type": "execute_result"
    }
   ],
   "source": [
    "1/(0.08e-3)"
   ]
  },
  {
   "cell_type": "code",
   "execution_count": 24,
   "metadata": {},
   "outputs": [],
   "source": [
    "lowerLocRate = 11000\n",
    "upperLocRate = 14000"
   ]
  },
  {
   "cell_type": "code",
   "execution_count": 25,
   "metadata": {},
   "outputs": [
    {
     "name": "stdout",
     "output_type": "stream",
     "text": [
      "Iteration No: 1 started. Evaluating function at random point.\n"
     ]
    },
    {
     "name": "stderr",
     "output_type": "stream",
     "text": [
      "Batch 1 / 2 :: 100%|████████████████████████████████████████████████████████████████████████████████████████████████████████████████████| 5488/5488 [00:05<00:00, 965.23it/s]\n",
      "Batch 2 / 2 :: 100%|████████████████████████████████████████████████████████████████████████████████████████████████████████████████████| 6630/6630 [00:07<00:00, 942.51it/s]\n"
     ]
    },
    {
     "name": "stdout",
     "output_type": "stream",
     "text": [
      "\n",
      "Processed samples in 13.480313062667847 s\n",
      "\n",
      "The error is: 29.298642393339417 mm, the location rate is: 12766.0 kHz\n",
      "Iteration No: 1 ended. Evaluation done at random point.\n",
      "Time taken: 13.4855\n",
      "Function value obtained: 29.2986\n",
      "Current minimum: 29.2986\n",
      "Iteration No: 2 started. Evaluating function at random point.\n"
     ]
    },
    {
     "name": "stderr",
     "output_type": "stream",
     "text": [
      "Batch 1 / 2 :: 100%|████████████████████████████████████████████████████████████████████████████████████████████████████████████████████| 5927/5927 [00:06<00:00, 964.99it/s]\n",
      "Batch 2 / 2 :: 100%|████████████████████████████████████████████████████████████████████████████████████████████████████████████████████| 5776/5776 [00:06<00:00, 959.50it/s]\n"
     ]
    },
    {
     "name": "stdout",
     "output_type": "stream",
     "text": [
      "\n",
      "Processed samples in 12.980381488800049 s\n",
      "\n",
      "The error is: 29.342364841777602 mm, the location rate is: 11080.0 kHz\n",
      "Iteration No: 2 ended. Evaluation done at random point.\n",
      "Time taken: 12.9851\n",
      "Function value obtained: 29.3424\n",
      "Current minimum: 29.2986\n",
      "Iteration No: 3 started. Evaluating function at random point.\n"
     ]
    },
    {
     "name": "stderr",
     "output_type": "stream",
     "text": [
      "Batch 1 / 2 :: 100%|████████████████████████████████████████████████████████████████████████████████████████████████████████████████████| 5110/5110 [00:05<00:00, 965.16it/s]\n",
      "Batch 2 / 2 :: 100%|██████████████████████████████████████████████████████████████████████████████████████████████████████████████████| 10525/10525 [00:11<00:00, 934.23it/s]\n"
     ]
    },
    {
     "name": "stdout",
     "output_type": "stream",
     "text": [
      "\n",
      "Processed samples in 17.63435459136963 s\n",
      "\n",
      "The error is: 20088.453245154924 mm, the location rate is: 2416.0 kHz\n",
      "Iteration No: 3 ended. Evaluation done at random point.\n",
      "Time taken: 17.6368\n",
      "Function value obtained: 20088.4532\n",
      "Current minimum: 29.2986\n",
      "Iteration No: 4 started. Evaluating function at random point.\n"
     ]
    },
    {
     "name": "stderr",
     "output_type": "stream",
     "text": [
      "Batch 1 / 2 :: 100%|███████████████████████████████████████████████████████████████████████████████████████████████████████████████████| 5292/5292 [00:03<00:00, 1651.05it/s]\n",
      "Batch 2 / 2 :: 100%|██████████████████████████████████████████████████████████████████████████████████████████████████████████████████| 12437/12437 [00:13<00:00, 929.76it/s]\n"
     ]
    },
    {
     "name": "stdout",
     "output_type": "stream",
     "text": [
      "\n",
      "Processed samples in 17.481810808181763 s\n",
      "\n",
      "The error is: 19798.24906772514 mm, the location rate is: 2788.0 kHz\n",
      "Iteration No: 4 ended. Evaluation done at random point.\n",
      "Time taken: 17.4842\n",
      "Function value obtained: 19798.2491\n",
      "Current minimum: 29.2986\n",
      "Iteration No: 5 started. Evaluating function at random point.\n"
     ]
    },
    {
     "name": "stderr",
     "output_type": "stream",
     "text": [
      "Batch 1 / 2 :: 100%|████████████████████████████████████████████████████████████████████████████████████████████████████████████████████| 4358/4358 [00:04<00:00, 996.69it/s]\n",
      "Batch 2 / 2 :: 100%|████████████████████████████████████████████████████████████████████████████████████████████████████████████████████| 4311/4311 [00:04<00:00, 962.13it/s]\n"
     ]
    },
    {
     "name": "stdout",
     "output_type": "stream",
     "text": [
      "\n",
      "Processed samples in 9.446417570114136 s\n",
      "\n",
      "The error is: 21579.002095828757 mm, the location rate is: 922.0 kHz\n",
      "Iteration No: 5 ended. Evaluation done at random point.\n",
      "Time taken: 9.4489\n",
      "Function value obtained: 21579.0021\n",
      "Current minimum: 29.2986\n",
      "Iteration No: 6 started. Evaluating function at random point.\n"
     ]
    },
    {
     "name": "stderr",
     "output_type": "stream",
     "text": [
      "Batch 1 / 2 :: 100%|████████████████████████████████████████████████████████████████████████████████████████████████████████████████████| 5488/5488 [00:05<00:00, 973.75it/s]\n",
      "Batch 2 / 2 :: 100%|████████████████████████████████████████████████████████████████████████████████████████████████████████████████████| 9586/9586 [00:10<00:00, 932.68it/s]\n"
     ]
    },
    {
     "name": "stdout",
     "output_type": "stream",
     "text": [
      "\n",
      "Processed samples in 16.76645040512085 s\n",
      "\n",
      "The error is: 20506.782759635622 mm, the location rate is: 2010.0 kHz\n",
      "Iteration No: 6 ended. Evaluation done at random point.\n",
      "Time taken: 16.7688\n",
      "Function value obtained: 20506.7828\n",
      "Current minimum: 29.2986\n",
      "Iteration No: 7 started. Evaluating function at random point.\n"
     ]
    },
    {
     "name": "stderr",
     "output_type": "stream",
     "text": [
      "Batch 1 / 2 :: 100%|████████████████████████████████████████████████████████████████████████████████████████████████████████████████████| 5292/5292 [00:05<00:00, 998.19it/s]\n",
      "Batch 2 / 2 :: 100%|████████████████████████████████████████████████████████████████████████████████████████████████████████████████████| 5277/5277 [00:05<00:00, 941.53it/s]\n"
     ]
    },
    {
     "name": "stdout",
     "output_type": "stream",
     "text": [
      "\n",
      "Processed samples in 11.718341827392578 s\n",
      "\n",
      "The error is: 12326.757068596386 mm, the location rate is: 10200.0 kHz\n",
      "Iteration No: 7 ended. Evaluation done at random point.\n",
      "Time taken: 11.7220\n",
      "Function value obtained: 12326.7571\n",
      "Current minimum: 29.2986\n",
      "Iteration No: 8 started. Evaluating function at random point.\n"
     ]
    },
    {
     "name": "stderr",
     "output_type": "stream",
     "text": [
      "Batch 1 / 2 :: 100%|████████████████████████████████████████████████████████████████████████████████████████████████████████████████████| 4490/4490 [00:04<00:00, 965.06it/s]\n",
      "Batch 2 / 2 :: 100%|████████████████████████████████████████████████████████████████████████████████████████████████████████████████████| 4432/4432 [00:04<00:00, 966.09it/s]\n"
     ]
    },
    {
     "name": "stdout",
     "output_type": "stream",
     "text": [
      "\n",
      "Processed samples in 9.895391941070557 s\n",
      "\n",
      "The error is: 21627.09608878907 mm, the location rate is: 884.0 kHz\n",
      "Iteration No: 8 ended. Evaluation done at random point.\n",
      "Time taken: 9.8981\n",
      "Function value obtained: 21627.0961\n",
      "Current minimum: 29.2986\n",
      "Iteration No: 9 started. Evaluating function at random point.\n"
     ]
    },
    {
     "name": "stderr",
     "output_type": "stream",
     "text": [
      "Batch 1 / 2 :: 100%|████████████████████████████████████████████████████████████████████████████████████████████████████████████████████| 4358/4358 [00:04<00:00, 995.88it/s]\n",
      "Batch 2 / 2 :: 100%|████████████████████████████████████████████████████████████████████████████████████████████████████████████████████| 4304/4304 [00:04<00:00, 956.28it/s]\n"
     ]
    },
    {
     "name": "stdout",
     "output_type": "stream",
     "text": [
      "\n",
      "Processed samples in 9.453761577606201 s\n",
      "\n",
      "The error is: 21580.94247633691 mm, the location rate is: 920.0 kHz\n",
      "Iteration No: 9 ended. Evaluation done at random point.\n",
      "Time taken: 9.4568\n",
      "Function value obtained: 21580.9425\n",
      "Current minimum: 29.2986\n",
      "Iteration No: 10 started. Evaluating function at random point.\n"
     ]
    },
    {
     "name": "stderr",
     "output_type": "stream",
     "text": [
      "Batch 1 / 2 :: 100%|████████████████████████████████████████████████████████████████████████████████████████████████████████████████████| 4490/4490 [00:04<00:00, 986.07it/s]\n",
      "Batch 2 / 2 :: 100%|████████████████████████████████████████████████████████████████████████████████████████████████████████████████████| 4424/4424 [00:04<00:00, 963.34it/s]\n"
     ]
    },
    {
     "name": "stdout",
     "output_type": "stream",
     "text": [
      "\n",
      "Processed samples in 9.760216236114502 s\n",
      "\n",
      "The error is: 21638.71300074475 mm, the location rate is: 886.0 kHz\n",
      "Iteration No: 10 ended. Evaluation done at random point.\n",
      "Time taken: 10.1321\n",
      "Function value obtained: 21638.7130\n",
      "Current minimum: 29.2986\n",
      "Iteration No: 11 started. Searching for the next optimal point.\n"
     ]
    },
    {
     "name": "stderr",
     "output_type": "stream",
     "text": [
      "Batch 1 / 2 :: 100%|████████████████████████████████████████████████████████████████████████████████████████████████████████████████████| 5110/5110 [00:05<00:00, 993.30it/s]\n",
      "Batch 2 / 2 :: 100%|████████████████████████████████████████████████████████████████████████████████████████████████████████████████████| 5559/5559 [00:05<00:00, 970.36it/s]\n"
     ]
    },
    {
     "name": "stdout",
     "output_type": "stream",
     "text": [
      "\n",
      "Processed samples in 11.826273441314697 s\n",
      "\n",
      "The error is: 11818.343327675386 mm, the location rate is: 10710.0 kHz\n",
      "Iteration No: 11 ended. Search finished for the next optimal point.\n",
      "Time taken: 12.2375\n",
      "Function value obtained: 11818.3433\n",
      "Current minimum: 29.2986\n",
      "Iteration No: 12 started. Searching for the next optimal point.\n"
     ]
    },
    {
     "name": "stderr",
     "output_type": "stream",
     "text": [
      "Batch 1 / 2 :: 100%|████████████████████████████████████████████████████████████████████████████████████████████████████████████████████| 5927/5927 [00:06<00:00, 978.17it/s]\n",
      "Batch 2 / 2 :: 100%|████████████████████████████████████████████████████████████████████████████████████████████████████████████████████| 5761/5761 [00:06<00:00, 954.17it/s]\n"
     ]
    },
    {
     "name": "stdout",
     "output_type": "stream",
     "text": [
      "\n",
      "Processed samples in 12.888166666030884 s\n",
      "\n",
      "The error is: 29.6472562347079 mm, the location rate is: 11124.0 kHz\n",
      "Iteration No: 12 ended. Search finished for the next optimal point.\n",
      "Time taken: 13.2530\n",
      "Function value obtained: 29.6473\n",
      "Current minimum: 29.2986\n",
      "Iteration No: 13 started. Searching for the next optimal point.\n"
     ]
    },
    {
     "name": "stderr",
     "output_type": "stream",
     "text": [
      "Batch 1 / 2 :: 100%|████████████████████████████████████████████████████████████████████████████████████████████████████████████████████| 5488/5488 [00:05<00:00, 955.94it/s]\n",
      "Batch 2 / 2 :: 100%|████████████████████████████████████████████████████████████████████████████████████████████████████████████████████| 6641/6641 [00:06<00:00, 959.68it/s]\n"
     ]
    },
    {
     "name": "stdout",
     "output_type": "stream",
     "text": [
      "\n",
      "Processed samples in 13.467079162597656 s\n",
      "\n",
      "The error is: 23.87595728557128 mm, the location rate is: 12814.0 kHz\n",
      "Iteration No: 13 ended. Search finished for the next optimal point.\n",
      "Time taken: 13.7494\n",
      "Function value obtained: 23.8760\n",
      "Current minimum: 23.8760\n",
      "Iteration No: 14 started. Searching for the next optimal point.\n"
     ]
    },
    {
     "name": "stderr",
     "output_type": "stream",
     "text": [
      "Batch 1 / 2 :: 100%|████████████████████████████████████████████████████████████████████████████████████████████████████████████████████| 5488/5488 [00:05<00:00, 951.42it/s]\n",
      "Batch 2 / 2 :: 100%|████████████████████████████████████████████████████████████████████████████████████████████████████████████████████| 6659/6659 [00:06<00:00, 960.87it/s]\n"
     ]
    },
    {
     "name": "stdout",
     "output_type": "stream",
     "text": [
      "\n",
      "Processed samples in 13.529101610183716 s\n",
      "\n",
      "The error is: 24.56541117376781 mm, the location rate is: 12868.0 kHz\n",
      "Iteration No: 14 ended. Search finished for the next optimal point.\n",
      "Time taken: 13.7992\n",
      "Function value obtained: 24.5654\n",
      "Current minimum: 23.8760\n",
      "Iteration No: 15 started. Searching for the next optimal point.\n"
     ]
    },
    {
     "name": "stderr",
     "output_type": "stream",
     "text": [
      "Batch 1 / 2 :: 100%|████████████████████████████████████████████████████████████████████████████████████████████████████████████████████| 5488/5488 [00:05<00:00, 959.81it/s]\n",
      "Batch 2 / 2 :: 100%|████████████████████████████████████████████████████████████████████████████████████████████████████████████████████| 6641/6641 [00:06<00:00, 951.83it/s]\n"
     ]
    },
    {
     "name": "stdout",
     "output_type": "stream",
     "text": [
      "\n",
      "Processed samples in 13.50591516494751 s\n",
      "\n",
      "The error is: 27.30428020611221 mm, the location rate is: 12782.0 kHz\n",
      "Iteration No: 15 ended. Search finished for the next optimal point.\n",
      "Time taken: 13.7420\n",
      "Function value obtained: 27.3043\n",
      "Current minimum: 23.8760\n",
      "Iteration No: 16 started. Searching for the next optimal point.\n"
     ]
    },
    {
     "name": "stderr",
     "output_type": "stream",
     "text": [
      "Batch 1 / 2 :: 100%|████████████████████████████████████████████████████████████████████████████████████████████████████████████████████| 5927/5927 [00:06<00:00, 978.31it/s]\n",
      "Batch 2 / 2 :: 100%|████████████████████████████████████████████████████████████████████████████████████████████████████████████████████| 5768/5768 [00:05<00:00, 962.35it/s]\n"
     ]
    },
    {
     "name": "stdout",
     "output_type": "stream",
     "text": [
      "\n",
      "Processed samples in 12.85605001449585 s\n",
      "\n",
      "The error is: 28.36564997891992 mm, the location rate is: 11122.0 kHz\n",
      "Iteration No: 16 ended. Search finished for the next optimal point.\n",
      "Time taken: 13.0930\n",
      "Function value obtained: 28.3656\n",
      "Current minimum: 23.8760\n",
      "Iteration No: 17 started. Searching for the next optimal point.\n"
     ]
    },
    {
     "name": "stderr",
     "output_type": "stream",
     "text": [
      "Batch 1 / 2 :: 100%|████████████████████████████████████████████████████████████████████████████████████████████████████████████████████| 5699/5699 [00:06<00:00, 934.60it/s]\n",
      "Batch 2 / 2 :: 100%|████████████████████████████████████████████████████████████████████████████████████████████████████████████████████| 6990/6990 [00:07<00:00, 930.41it/s]\n"
     ]
    },
    {
     "name": "stdout",
     "output_type": "stream",
     "text": [
      "\n",
      "Processed samples in 14.186939239501953 s\n",
      "\n",
      "The error is: 21086.863719991787 mm, the location rate is: 1456.0 kHz\n",
      "Iteration No: 17 ended. Search finished for the next optimal point.\n",
      "Time taken: 14.5998\n",
      "Function value obtained: 21086.8637\n",
      "Current minimum: 23.8760\n",
      "Iteration No: 18 started. Searching for the next optimal point.\n"
     ]
    },
    {
     "name": "stderr",
     "output_type": "stream",
     "text": [
      "Batch 1 / 2 :: 100%|████████████████████████████████████████████████████████████████████████████████████████████████████████████████████| 5488/5488 [00:05<00:00, 971.82it/s]\n",
      "Batch 2 / 2 :: 100%|████████████████████████████████████████████████████████████████████████████████████████████████████████████████████| 6723/6723 [00:07<00:00, 933.67it/s]\n"
     ]
    },
    {
     "name": "stdout",
     "output_type": "stream",
     "text": [
      "\n",
      "Processed samples in 13.379591703414917 s\n",
      "\n",
      "The error is: 22.11611736505079 mm, the location rate is: 12890.0 kHz\n",
      "Iteration No: 18 ended. Search finished for the next optimal point.\n",
      "Time taken: 13.7359\n",
      "Function value obtained: 22.1161\n",
      "Current minimum: 22.1161\n",
      "Iteration No: 19 started. Searching for the next optimal point.\n"
     ]
    },
    {
     "name": "stderr",
     "output_type": "stream",
     "text": [
      "Batch 1 / 2 :: 100%|████████████████████████████████████████████████████████████████████████████████████████████████████████████████████| 5488/5488 [00:05<00:00, 966.76it/s]\n",
      "Batch 2 / 2 :: 100%|████████████████████████████████████████████████████████████████████████████████████████████████████████████████████| 6766/6766 [00:07<00:00, 950.39it/s]\n"
     ]
    },
    {
     "name": "stdout",
     "output_type": "stream",
     "text": [
      "\n",
      "Processed samples in 13.403918743133545 s\n",
      "\n",
      "The error is: 22.142704057727087 mm, the location rate is: 12966.0 kHz\n",
      "Iteration No: 19 ended. Search finished for the next optimal point.\n",
      "Time taken: 13.7408\n",
      "Function value obtained: 22.1427\n",
      "Current minimum: 22.1161\n",
      "Iteration No: 20 started. Searching for the next optimal point.\n"
     ]
    },
    {
     "name": "stderr",
     "output_type": "stream",
     "text": [
      "Batch 1 / 2 :: 100%|████████████████████████████████████████████████████████████████████████████████████████████████████████████████████| 5488/5488 [00:05<00:00, 946.84it/s]\n",
      "Batch 2 / 2 :: 100%|████████████████████████████████████████████████████████████████████████████████████████████████████████████████████| 6710/6710 [00:07<00:00, 949.02it/s]\n"
     ]
    },
    {
     "name": "stdout",
     "output_type": "stream",
     "text": [
      "\n",
      "Processed samples in 13.77169418334961 s\n",
      "\n",
      "The error is: 22.4360379787708 mm, the location rate is: 12876.0 kHz\n",
      "Iteration No: 20 ended. Search finished for the next optimal point.\n",
      "Time taken: 14.4011\n",
      "Function value obtained: 22.4360\n",
      "Current minimum: 22.1161\n"
     ]
    }
   ],
   "source": [
    "optVals = optAllML(lowerLocRate = lowerLocRate, upperLocRate = upperLocRate, Data = lors_2, truePath = trueData)"
   ]
  },
  {
   "cell_type": "code",
   "execution_count": 26,
   "metadata": {},
   "outputs": [
    {
     "data": {
      "text/plain": [
       "[22.11611736505079, 27, 0.19154125756473556, 0.611677887676929]"
      ]
     },
     "execution_count": 26,
     "metadata": {},
     "output_type": "execute_result"
    }
   ],
   "source": [
    "optVals"
   ]
  },
  {
   "cell_type": "code",
   "execution_count": 27,
   "metadata": {},
   "outputs": [],
   "source": [
    "MLPipeOpt = Pipeline([\n",
    "            Stack(sample_size = optVals[1], overlap = 0),\n",
    "            Cutpoints(max_distance = 3.0),\n",
    "            HDBSCAN(true_fraction = optVals[2]),\n",
    "            SplitLabels() + Centroids(),\n",
    "\n",
    "            Stack(sample_size = 5, overlap = 4), \n",
    "            HDBSCAN(true_fraction = optVals[3]),\n",
    "            SplitLabels() + Centroids(),\n",
    "            Stack()\n",
    "        ])"
   ]
  },
  {
   "cell_type": "code",
   "execution_count": 28,
   "metadata": {},
   "outputs": [
    {
     "name": "stderr",
     "output_type": "stream",
     "text": [
      "Batch 1 / 2 :: 100%|████████████████████████████████████████████████████████████████████████████████████████████████████████████████████| 5488/5488 [00:05<00:00, 983.63it/s]\n",
      "Batch 2 / 2 :: 100%|████████████████████████████████████████████████████████████████████████████████████████████████████████████████████| 6714/6714 [00:07<00:00, 958.95it/s]\n"
     ]
    },
    {
     "name": "stdout",
     "output_type": "stream",
     "text": [
      "\n",
      "Processed samples in 13.61336088180542 s\n",
      "\n",
      "The location rate is 12946.00 Hz\n"
     ]
    }
   ],
   "source": [
    "optLocs = MLPipeOpt.fit(lors_2)\n",
    "print(\"The location rate is {:.2f} Hz\".format(len(optLocs.points)/0.5))"
   ]
  },
  {
   "cell_type": "code",
   "execution_count": 29,
   "metadata": {},
   "outputs": [
    {
     "data": {
      "text/plain": [
       "pept.PointData (samples: 6714)\n",
       "------------------------------\n",
       "sample_size = [1 1 1 ... 1 1 1]\n",
       "overlap = None\n",
       "points = \n",
       "  (rows: 6473, columns: 4)\n",
       "  [[ 1.89556281e-04  7.06104100e+00  7.31948565e+00  2.04817617e+00]\n",
       "   [ 2.63685880e-04  6.04426838e+00  7.68379173e+00  8.52390183e-01]\n",
       "   ...\n",
       "   [ 1.11208643e+00 -8.30263530e+01  1.03805481e+02  2.84128294e+01]\n",
       "   [ 1.25013376e+00 -8.18893697e+01  1.03040837e+02  2.72781170e+01]]\n",
       "columns = ['t', 'x', 'y', 'z']\n",
       "attrs = {}"
      ]
     },
     "execution_count": 29,
     "metadata": {},
     "output_type": "execute_result"
    }
   ],
   "source": [
    "optLocs"
   ]
  },
  {
   "cell_type": "code",
   "execution_count": 30,
   "metadata": {},
   "outputs": [
    {
     "data": {
      "text/plain": [
       "[<matplotlib.lines.Line2D at 0x7f3963432b80>]"
      ]
     },
     "execution_count": 30,
     "metadata": {},
     "output_type": "execute_result"
    },
    {
     "data": {
      "application/vnd.jupyter.widget-view+json": {
       "model_id": "fd170c65b05041019e1178bca65cab59",
       "version_major": 2,
       "version_minor": 0
      },
      "image/png": "[encoded data removed]",
      "text/html": [
       "\n",
       "            <div style=\"display: inline-block;\">\n",
       "                <div class=\"jupyter-widgets widget-label\" style=\"text-align: center;\">\n",
       "                    Figure\n",
       "                </div>\n",
       "                <img src='data:image/png;base64,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' width=640.0/>\n",
       "            </div>\n",
       "        "
      ],
      "text/plain": [
       "Canvas(toolbar=Toolbar(toolitems=[('Home', 'Reset original view', 'home', 'home'), ('Back', 'Back to previous …"
      ]
     },
     "metadata": {},
     "output_type": "display_data"
    }
   ],
   "source": [
    "plt.close(\"all\")\n",
    "fig, ax = plt.subplots(1, 1)\n",
    "\n",
    "ax.scatter(optLocs['t'], optLocs['x'], color = 'r', s = 1)\n",
    "ax.plot(trueData['t'], trueData['x'], color = 'g', lw = 1)"
   ]
  },
  {
   "cell_type": "code",
   "execution_count": 31,
   "metadata": {},
   "outputs": [
    {
     "name": "stderr",
     "output_type": "stream",
     "text": [
      "Batch 1 / 1 :: 100%|███████████████████████████████████████████████████████████████████████████████████████████████████████████████████| 6714/6714 [00:06<00:00, 1078.67it/s]\n"
     ]
    },
    {
     "name": "stdout",
     "output_type": "stream",
     "text": [
      "\n",
      "Processed samples in 6.685084104537964 s\n",
      "\n"
     ]
    }
   ],
   "source": [
    "filter1 = Condition(\"t >= 0.0, t <= 0.5\") + Stack()\n",
    "filteredLocs = filter1.fit(optLocs)"
   ]
  },
  {
   "cell_type": "code",
   "execution_count": 32,
   "metadata": {},
   "outputs": [],
   "source": [
    "np.save(\"/home/rayhaan/randomWalk_V3/GATE_Generation/Sigma_2.0mm_Tau_0.08ms_1.2ms_tracks/RW3_TS_0.08ms_SS_2.00mm.npy\", arr = filteredLocs.points)"
   ]
  },
  {
   "cell_type": "code",
   "execution_count": 33,
   "metadata": {},
   "outputs": [],
   "source": [
    "uncertainty = errorCalculation(truePath = trueData, trackedPath = optLocs)"
   ]
  },
  {
   "cell_type": "code",
   "execution_count": 34,
   "metadata": {},
   "outputs": [
    {
     "name": "stdout",
     "output_type": "stream",
     "text": [
      "The uncertainty is 24.25424404793173 mm\n"
     ]
    }
   ],
   "source": [
    "print(\"The uncertainty is {} mm\".format(uncertainty))"
   ]
  },
  {
   "cell_type": "code",
   "execution_count": null,
   "metadata": {},
   "outputs": [],
   "source": []
  }
 ],
 "metadata": {
  "kernelspec": {
   "display_name": "Python 3 (ipykernel)",
   "language": "python",
   "name": "python3"
  },
  "language_info": {
   "codemirror_mode": {
    "name": "ipython",
    "version": 3
   },
   "file_extension": ".py",
   "mimetype": "text/x-python",
   "name": "python",
   "nbconvert_exporter": "python",
   "pygments_lexer": "ipython3",
   "version": "3.8.10"
  }
 },
 "nbformat": 4,
 "nbformat_minor": 2
}
